{
 "cells": [
  {
   "cell_type": "code",
   "execution_count": 2,
   "id": "7faf7177",
   "metadata": {},
   "outputs": [
    {
     "name": "stdout",
     "output_type": "stream",
     "text": [
      "75.23809523809524\n"
     ]
    },
    {
     "name": "stderr",
     "output_type": "stream",
     "text": [
      "C:\\Users\\chitt\\anaconda3\\lib\\site-packages\\sklearn\\utils\\validation.py:1300: DataConversionWarning: A column-vector y was passed when a 1d array was expected. Please change the shape of y to (n_samples, ), for example using ravel().\n",
      "  y = column_or_1d(y, warn=True)\n"
     ]
    },
    {
     "data": {
      "text/plain": [
       "['train_model.pkl']"
      ]
     },
     "execution_count": 2,
     "metadata": {},
     "output_type": "execute_result"
    }
   ],
   "source": [
    "import numpy as np\n",
    "import pandas as pd\n",
    "from sklearn.linear_model import LogisticRegression\n",
    "from sklearn.preprocessing import LabelEncoder, StandardScaler\n",
    "from sklearn.pipeline import make_pipeline\n",
    "from sklearn.metrics import accuracy_score\n",
    "import joblib\n",
    "\n",
    "data = pd.read_csv(r\"C:/Users/chitt/Downloads/train dataset.csv\")\n",
    "\n",
    "le = LabelEncoder()\n",
    "data['Gender'] = le.fit_transform(data['Gender'])\n",
    "input_cols = ['Gender', 'Age', 'openness', 'neuroticism', 'conscientiousness', 'agreeableness', 'extraversion']\n",
    "output_cols = ['Personality (Class label)']\n",
    "\n",
    "scaler = StandardScaler()\n",
    "data[input_cols] = scaler.fit_transform(data[input_cols])\n",
    "data.head()\n",
    "\n",
    "X = data[input_cols]\n",
    "Y = data[output_cols]\n",
    "\n",
    "model = LogisticRegression(multi_class='multinomial', solver='newton-cg',max_iter =1000)\n",
    "model.fit(X, Y)  \n",
    "\n",
    "test_data = pd.read_csv(r\"C:/Users/chitt/Downloads/test dataset.csv\")\n",
    "test_data['Gender'] = le.fit_transform(test_data['Gender'])\n",
    "test_data[input_cols] = scaler.fit_transform(test_data[input_cols])\n",
    "X_test = test_data[input_cols]\n",
    "Y_test = test_data['Personality (class label)']\n",
    "test_data.head()\n",
    "\n",
    "y_pred= model.predict(X_test)  \n",
    "\n",
    "print(accuracy_score(Y_test,y_pred)*100)\n",
    "\n",
    "joblib.dump(model, \"train_model.pkl\")"
   ]
  },
  {
   "cell_type": "code",
   "execution_count": null,
   "id": "774e3933",
   "metadata": {},
   "outputs": [],
   "source": []
  }
 ],
 "metadata": {
  "kernelspec": {
   "display_name": "Python 3 (ipykernel)",
   "language": "python",
   "name": "python3"
  },
  "language_info": {
   "codemirror_mode": {
    "name": "ipython",
    "version": 3
   },
   "file_extension": ".py",
   "mimetype": "text/x-python",
   "name": "python",
   "nbconvert_exporter": "python",
   "pygments_lexer": "ipython3",
   "version": "3.9.13"
  }
 },
 "nbformat": 4,
 "nbformat_minor": 5
}
